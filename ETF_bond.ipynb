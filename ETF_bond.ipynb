{
 "cells": [
  {
   "cell_type": "code",
   "execution_count": 1,
   "metadata": {},
   "outputs": [],
   "source": [
    "import yfinance as yf\n",
    "import pandas as pd\n",
    "import datetime as dt\n",
    "from datetime import date\n",
    "from pandas.tseries.offsets import MonthBegin\n",
    "import matplotlib.pyplot as plt"
   ]
  },
  {
   "cell_type": "code",
   "execution_count": 2,
   "metadata": {},
   "outputs": [
    {
     "name": "stdout",
     "output_type": "stream",
     "text": [
      "[*********************100%***********************]  1 of 1 completed\n",
      "[*********************100%***********************]  1 of 1 completed\n"
     ]
    }
   ],
   "source": [
    "df_ETF = yf.download('0050.TW', start='2017-01-02')\n",
    "df_bond = yf.download('00679B.TWO', start='2017-01-02')"
   ]
  },
  {
   "cell_type": "code",
   "execution_count": 3,
   "metadata": {},
   "outputs": [
    {
     "data": {
      "text/html": [
       "<div>\n",
       "<style scoped>\n",
       "    .dataframe tbody tr th:only-of-type {\n",
       "        vertical-align: middle;\n",
       "    }\n",
       "\n",
       "    .dataframe tbody tr th {\n",
       "        vertical-align: top;\n",
       "    }\n",
       "\n",
       "    .dataframe thead th {\n",
       "        text-align: right;\n",
       "    }\n",
       "</style>\n",
       "<table border=\"1\" class=\"dataframe\">\n",
       "  <thead>\n",
       "    <tr style=\"text-align: right;\">\n",
       "      <th></th>\n",
       "      <th>Open</th>\n",
       "      <th>High</th>\n",
       "      <th>Low</th>\n",
       "      <th>Close</th>\n",
       "      <th>Adj Close</th>\n",
       "      <th>Volume</th>\n",
       "    </tr>\n",
       "    <tr>\n",
       "      <th>Date</th>\n",
       "      <th></th>\n",
       "      <th></th>\n",
       "      <th></th>\n",
       "      <th></th>\n",
       "      <th></th>\n",
       "      <th></th>\n",
       "    </tr>\n",
       "  </thead>\n",
       "  <tbody>\n",
       "    <tr>\n",
       "      <th>2017-01-11</th>\n",
       "      <td>39.998798</td>\n",
       "      <td>39.998798</td>\n",
       "      <td>39.998798</td>\n",
       "      <td>39.998798</td>\n",
       "      <td>39.998798</td>\n",
       "      <td>0</td>\n",
       "    </tr>\n",
       "    <tr>\n",
       "      <th>2017-01-12</th>\n",
       "      <td>39.790501</td>\n",
       "      <td>39.790501</td>\n",
       "      <td>39.790501</td>\n",
       "      <td>39.790501</td>\n",
       "      <td>39.790501</td>\n",
       "      <td>0</td>\n",
       "    </tr>\n",
       "    <tr>\n",
       "      <th>2017-01-13</th>\n",
       "      <td>39.560101</td>\n",
       "      <td>39.560101</td>\n",
       "      <td>39.560101</td>\n",
       "      <td>39.560101</td>\n",
       "      <td>39.560101</td>\n",
       "      <td>0</td>\n",
       "    </tr>\n",
       "    <tr>\n",
       "      <th>2017-01-17</th>\n",
       "      <td>39.700001</td>\n",
       "      <td>39.779999</td>\n",
       "      <td>39.509998</td>\n",
       "      <td>39.689999</td>\n",
       "      <td>39.689999</td>\n",
       "      <td>928000</td>\n",
       "    </tr>\n",
       "    <tr>\n",
       "      <th>2017-01-18</th>\n",
       "      <td>39.660000</td>\n",
       "      <td>39.720001</td>\n",
       "      <td>39.650002</td>\n",
       "      <td>39.650002</td>\n",
       "      <td>39.650002</td>\n",
       "      <td>601000</td>\n",
       "    </tr>\n",
       "    <tr>\n",
       "      <th>...</th>\n",
       "      <td>...</td>\n",
       "      <td>...</td>\n",
       "      <td>...</td>\n",
       "      <td>...</td>\n",
       "      <td>...</td>\n",
       "      <td>...</td>\n",
       "    </tr>\n",
       "    <tr>\n",
       "      <th>2022-04-08</th>\n",
       "      <td>37.130001</td>\n",
       "      <td>37.130001</td>\n",
       "      <td>37.000000</td>\n",
       "      <td>37.009998</td>\n",
       "      <td>37.009998</td>\n",
       "      <td>2156000</td>\n",
       "    </tr>\n",
       "    <tr>\n",
       "      <th>2022-04-11</th>\n",
       "      <td>36.599998</td>\n",
       "      <td>36.630001</td>\n",
       "      <td>36.400002</td>\n",
       "      <td>36.500000</td>\n",
       "      <td>36.500000</td>\n",
       "      <td>3440000</td>\n",
       "    </tr>\n",
       "    <tr>\n",
       "      <th>2022-04-12</th>\n",
       "      <td>36.060001</td>\n",
       "      <td>36.220001</td>\n",
       "      <td>36.000000</td>\n",
       "      <td>36.080002</td>\n",
       "      <td>36.080002</td>\n",
       "      <td>2651000</td>\n",
       "    </tr>\n",
       "    <tr>\n",
       "      <th>2022-04-13</th>\n",
       "      <td>36.160000</td>\n",
       "      <td>36.209999</td>\n",
       "      <td>36.000000</td>\n",
       "      <td>36.020000</td>\n",
       "      <td>36.020000</td>\n",
       "      <td>3123000</td>\n",
       "    </tr>\n",
       "    <tr>\n",
       "      <th>2022-04-14</th>\n",
       "      <td>36.230000</td>\n",
       "      <td>36.330002</td>\n",
       "      <td>36.130001</td>\n",
       "      <td>36.240002</td>\n",
       "      <td>36.240002</td>\n",
       "      <td>2669071</td>\n",
       "    </tr>\n",
       "  </tbody>\n",
       "</table>\n",
       "<p>1274 rows × 6 columns</p>\n",
       "</div>"
      ],
      "text/plain": [
       "                 Open       High        Low      Close  Adj Close   Volume\n",
       "Date                                                                      \n",
       "2017-01-11  39.998798  39.998798  39.998798  39.998798  39.998798        0\n",
       "2017-01-12  39.790501  39.790501  39.790501  39.790501  39.790501        0\n",
       "2017-01-13  39.560101  39.560101  39.560101  39.560101  39.560101        0\n",
       "2017-01-17  39.700001  39.779999  39.509998  39.689999  39.689999   928000\n",
       "2017-01-18  39.660000  39.720001  39.650002  39.650002  39.650002   601000\n",
       "...               ...        ...        ...        ...        ...      ...\n",
       "2022-04-08  37.130001  37.130001  37.000000  37.009998  37.009998  2156000\n",
       "2022-04-11  36.599998  36.630001  36.400002  36.500000  36.500000  3440000\n",
       "2022-04-12  36.060001  36.220001  36.000000  36.080002  36.080002  2651000\n",
       "2022-04-13  36.160000  36.209999  36.000000  36.020000  36.020000  3123000\n",
       "2022-04-14  36.230000  36.330002  36.130001  36.240002  36.240002  2669071\n",
       "\n",
       "[1274 rows x 6 columns]"
      ]
     },
     "execution_count": 3,
     "metadata": {},
     "output_type": "execute_result"
    }
   ],
   "source": [
    "df_bond"
   ]
  },
  {
   "cell_type": "code",
   "execution_count": 4,
   "metadata": {},
   "outputs": [],
   "source": [
    "def cal_pay_profit(ETF_bond_ratio):\n",
    "    prices_bond = df_bond['Open']\n",
    "    prices_ETF = df_ETF['Open']\n",
    "\n",
    "    pay_per_month = 2000    # NTD\n",
    "    # ETF_bond_rate = 0.5\n",
    "    hold_ETF = 0\n",
    "    hold_bond = 0\n",
    "    pay = 0\n",
    "    today = date.today()\n",
    "    previous_momth = '00'\n",
    "\n",
    "    index = df_bond.index.strftime('%Y-%m-%d').tolist()\n",
    "\n",
    "    for i in index:\n",
    "        if(i[5:7] != previous_momth):\n",
    "            previous_momth = i[5:7]\n",
    "            hold_ETF += pay_per_month * ETF_bond_ratio/prices_ETF[i]\n",
    "            hold_bond += pay_per_month * (1 - ETF_bond_ratio)/prices_bond[i]\n",
    "            pay += pay_per_month\n",
    "\n",
    "\n",
    "    profit = hold_ETF * prices_ETF[prices_ETF.index[-1]] + hold_bond * prices_bond[prices_bond.index[-1]]\n",
    "\n",
    "\n",
    "    return pay, profit"
   ]
  },
  {
   "cell_type": "code",
   "execution_count": 5,
   "metadata": {},
   "outputs": [],
   "source": [
    "years = int(df_bond.index.strftime('%Y-%m-%d')[-1][:4]) - int(df_bond.index.strftime('%Y-%m-%d')[0][:4])"
   ]
  },
  {
   "cell_type": "code",
   "execution_count": 6,
   "metadata": {},
   "outputs": [
    {
     "data": {
      "text/plain": [
       "(128000, 180535.26261108005)"
      ]
     },
     "execution_count": 6,
     "metadata": {},
     "output_type": "execute_result"
    }
   ],
   "source": [
    "cal_pay_profit(0.9)"
   ]
  },
  {
   "cell_type": "code",
   "execution_count": 7,
   "metadata": {},
   "outputs": [
    {
     "data": {
      "image/png": "[encoded data removed]",
      "text/plain": [
       "<Figure size 432x288 with 2 Axes>"
      ]
     },
     "metadata": {
      "needs_background": "light"
     },
     "output_type": "display_data"
    }
   ],
   "source": [
    "pays = []\n",
    "profits = []\n",
    "ROI = []\n",
    "IRR = []\n",
    "ax = []\n",
    "step = 0.01\n",
    "\n",
    "for i in range(int(1.0/step)):\n",
    "    pay, profit = cal_pay_profit(i*step)\n",
    "    pays.append(pay)\n",
    "    profits.append(profit)\n",
    "    ROI.append((profit-pay)*100/pay)\n",
    "    IRR.append(((profit/pay)**(1/years)-1)*100)\n",
    "    ax.append(i*step)\n",
    "\n",
    "\n",
    "fig, ax1 = plt.subplots()\n",
    "plt.title('ROI & IRR')\n",
    "plt.xlabel('ETF_bond_ratio')\n",
    "ax2 = ax1.twinx()\n",
    "\n",
    "ax1.set_ylabel('ROI', color='tab:blue')\n",
    "ax1.plot(ax, ROI, color='tab:blue')\n",
    "ax1.tick_params(axis='y', labelcolor='tab:blue')\n",
    "\n",
    "ax2.set_ylabel('IRR', color='black')\n",
    "ax2.plot(ax, IRR, color='black')\n",
    "ax2.tick_params(axis='y', labelcolor='black')\n",
    "\n",
    "fig.tight_layout()\n",
    "plt.show()"
   ]
  },
  {
   "cell_type": "code",
   "execution_count": 8,
   "metadata": {},
   "outputs": [
    {
     "name": "stdout",
     "output_type": "stream",
     "text": [
      "Cost:   128000 NTD\n",
      "Value:  187266.20140605402 NTD\n",
      "ROI:  46.301719848479706 %\n",
      "IRR:  7.907066520764006 %\n"
     ]
    }
   ],
   "source": [
    "print(\"Cost:  \", pay, \"NTD\")\n",
    "print(\"Value: \", profit, \"NTD\")\n",
    "print(\"ROI: \", (profit-pay)*100/pay, '%')\n",
    "print(\"IRR: \", ((profit/pay)**(1/years)-1)*100,'%')\n"
   ]
  }
 ],
 "metadata": {
  "interpreter": {
   "hash": "b9ed21ce3e79e551a27a11d2551dd0fb060a3f4c5f44a14454b2145fe2b135cb"
  },
  "kernelspec": {
   "display_name": "Python 3.9.7 ('base')",
   "language": "python",
   "name": "python3"
  },
  "language_info": {
   "codemirror_mode": {
    "name": "ipython",
    "version": 3
   },
   "file_extension": ".py",
   "mimetype": "text/x-python",
   "name": "python",
   "nbconvert_exporter": "python",
   "pygments_lexer": "ipython3",
   "version": "3.9.7"
  },
  "orig_nbformat": 4
 },
 "nbformat": 4,
 "nbformat_minor": 2
}
